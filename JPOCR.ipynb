{
 "cells": [
  {
   "cell_type": "code",
   "execution_count": null,
   "id": "481f0085",
   "metadata": {},
   "outputs": [
    {
     "name": "stdout",
     "output_type": "stream",
     "text": [
      "Please copy an image to your clipboard (e.g., by taking a screenshot or copying an image file).\n"
     ]
    },
    {
     "name": "stderr",
     "output_type": "stream",
     "text": [
      "Neither CUDA nor MPS are available - defaulting to CPU. Note: This module is much faster with a GPU.\n"
     ]
    },
    {
     "name": "stdout",
     "output_type": "stream",
     "text": [
      "\n",
      "--- Extracting text from clipboard image ---\n",
      "Extracted Text:\n",
      "(基本)川イクルの作業終了・リニフ交代時も1サイクル終了後に交代する\n"
     ]
    }
   ],
   "source": [
    "import warnings # Import the warnings module as early as possible\n",
    "import easyocr\n",
    "from PIL import ImageGrab\n",
    "import io\n",
    "\n",
    "warnings.filterwarnings(\n",
    "    \"ignore\",\n",
    "    message=\"'pin_memory' argument is set as true but no accelerator is found, then device pinned memory won't be used.\",\n",
    "    category=UserWarning\n",
    ")\n",
    "\n",
    "def get_text_from_clipboard_image(languages):\n",
    "    \"\"\"\n",
    "    Extracts text from an image copied to the clipboard using EasyOCR.\n",
    "\n",
    "    Args:\n",
    "        languages (list): A list of language codes for OCR (e.g., ['en'] for English,\n",
    "                          ['en', 'fr'] for English and French).\n",
    "\n",
    "    Returns:\n",
    "        str: The extracted text from the clipboard image, or an empty string if no image\n",
    "             is found or an error occurs.\n",
    "    \"\"\"\n",
    "    try:\n",
    "        clipboard_image = ImageGrab.grabclipboard()\n",
    "\n",
    "        if clipboard_image is None:\n",
    "            print(\"No image found in the clipboard. Please copy an image first.\")\n",
    "            return \"\"\n",
    "\n",
    "\n",
    "        reader = easyocr.Reader(languages)\n",
    "\n",
    "        img_bytes = io.BytesIO()\n",
    "        clipboard_image.save(img_bytes, format='PNG')\n",
    "        img_bytes.seek(0)\n",
    "\n",
    "        results = reader.readtext(img_bytes.getvalue())\n",
    "\n",
    "        extracted_text = \"\"\n",
    "        for (bbox, text, prob) in results:\n",
    "            extracted_text += text + \"\\n\"\n",
    "\n",
    "        return extracted_text.strip()\n",
    "\n",
    "    except Exception as e:\n",
    "        print(f\"An error occurred: {e}\")\n",
    "        return \"\"\n",
    "\n",
    "if __name__ == \"__main__\":\n",
    "    print(\"Please copy an image to your clipboard (e.g., by taking a screenshot or copying an image file).\")\n",
    "    input(\"Press Enter when you have copied an image to the clipboard...\")\n",
    "\n",
    "    print(\"\\n--- Extracting text from clipboard image ---\")\n",
    "    extracted_text = get_text_from_clipboard_image(languages=['ja','en'])\n",
    "    if extracted_text:\n",
    "        print(\"Extracted Text:\")\n",
    "        print(extracted_text)\n",
    "    else:\n",
    "        print(\"No text extracted or an error occurred.\")"
   ]
  },
  {
   "cell_type": "code",
   "execution_count": null,
   "id": "78f6ceae",
   "metadata": {},
   "outputs": [],
   "source": [
    "import pytesseract\n",
    "from PIL import ImageGrab\n",
    "\n",
    "def get_text_from_clipboard_image_tesseract(languages):\n",
    "    \"\"\"\n",
    "    Extracts text from an image copied to the clipboard using Pytesseract.\n",
    "\n",
    "    Args:\n",
    "        languages (list): A list of language codes for OCR (e.g., ['eng'] for English,\n",
    "                          ['jpn'] for Japanese, ['eng', 'jpn'] for both).\n",
    "                          Note: Tesseract language codes are often 3 letters (e.g., 'eng', 'jpn').\n",
    "                          You must have the corresponding Tesseract language data installed.\n",
    "\n",
    "    Returns:\n",
    "        str: The extracted text from the clipboard image, or an empty string if no image\n",
    "             is found or an error occurs.\n",
    "    \"\"\"\n",
    "    try:\n",
    "        clipboard_image = ImageGrab.grabclipboard()\n",
    "\n",
    "        if clipboard_image is None:\n",
    "            print(\"No image found in the clipboard. Please copy an image first.\")\n",
    "            return \"\"\n",
    "\n",
    "        # Tesseract language string: join list with '+'\n",
    "        tesseract_lang_string = '+'.join(languages)\n",
    "\n",
    "        # Perform OCR directly on the PIL Image object\n",
    "        extracted_text = pytesseract.image_to_string(clipboard_image, lang=tesseract_lang_string)\n",
    "\n",
    "        return extracted_text.strip()\n",
    "\n",
    "    except pytesseract.TesseractNotFoundError:\n",
    "        print(\"Tesseract OCR engine not found.\")\n",
    "        return \"\"\n",
    "    except Exception as e:\n",
    "        print(f\"An error occurred: {e}\")\n",
    "        return \"\"\n",
    "\n",
    "if __name__ == \"__main__\":\n",
    "    print(\"Please copy an image to your clipboard (e.g., by taking a screenshot or copying an image file).\")\n",
    "    input(\"Press Enter when you have copied an image to the clipboard...\")\n",
    "\n",
    "    print(\"\\n--- Extracting text from clipboard image (Japanese & English) ---\")\n",
    "    extracted_text = get_text_from_clipboard_image_tesseract(languages=['jpn', 'eng'])\n",
    "    if extracted_text:\n",
    "        print(\"Extracted Text:\")\n",
    "        print(extracted_text)\n",
    "    else:\n",
    "        print(\"No text extracted or an error occurred.\")"
   ]
  }
 ],
 "metadata": {
  "kernelspec": {
   "display_name": ".venv",
   "language": "python",
   "name": "python3"
  },
  "language_info": {
   "codemirror_mode": {
    "name": "ipython",
    "version": 3
   },
   "file_extension": ".py",
   "mimetype": "text/x-python",
   "name": "python",
   "nbconvert_exporter": "python",
   "pygments_lexer": "ipython3",
   "version": "3.11.9"
  }
 },
 "nbformat": 4,
 "nbformat_minor": 5
}
